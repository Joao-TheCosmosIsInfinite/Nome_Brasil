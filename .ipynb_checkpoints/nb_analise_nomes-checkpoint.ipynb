{
 "cells": [
  {
   "cell_type": "markdown",
   "metadata": {},
   "source": [
    "<h1>Nomes do Brasil</h1>"
   ]
  },
  {
   "cell_type": "markdown",
   "metadata": {},
   "source": [
    "<p>Esse notebook se destina a oferecer uma visão sobre os principais nomes utilizados no Brasil.</p>"
   ]
  },
  {
   "cell_type": "markdown",
   "metadata": {},
   "source": [
    "## Importações\n",
    "<p>Principais bibliotecas do Python utilizadas, e também arquivos do projeto.</p>"
   ]
  },
  {
   "cell_type": "code",
   "execution_count": 1,
   "metadata": {},
   "outputs": [],
   "source": [
    "import pandas as pd\n",
    "import numpy as np\n",
    "import matplotlib.pyplot as plt\n",
    "import time\n",
    "import ast\n",
    "import seaborn as sns\n",
    "\n",
    "\n",
    "from wordcloud import WordCloud, STOPWORDS, ImageColorGenerator\n",
    "from src.principal import AcessoAPINomeIBGE\n",
    "from itertools import chain"
   ]
  },
  {
   "cell_type": "markdown",
   "metadata": {},
   "source": [
    "## Arquivos Externos\n",
    "<p>Localização dos arquivos que serão utilizados, basicamente os arquivos da pasta data, os .csv</p>"
   ]
  },
  {
   "cell_type": "code",
   "execution_count": 2,
   "metadata": {},
   "outputs": [],
   "source": [
    "states = 'data/estados.csv'\n",
    "cities = 'data/municipios.csv'\n",
    "apis_ibge = 'data/links_APIs.csv'"
   ]
  },
  {
   "cell_type": "markdown",
   "metadata": {},
   "source": [
    "## Inicializando alguns objetos"
   ]
  },
  {
   "cell_type": "markdown",
   "metadata": {},
   "source": [
    "### Carregando as string de conexão"
   ]
  },
  {
   "cell_type": "code",
   "execution_count": 3,
   "metadata": {},
   "outputs": [],
   "source": [
    "pr = AcessoAPINomeIBGE(apis_ibge)"
   ]
  },
  {
   "cell_type": "code",
   "execution_count": 4,
   "metadata": {},
   "outputs": [],
   "source": [
    "pr.fn_captar_strings_conexao_arquivo_csv()"
   ]
  },
  {
   "cell_type": "markdown",
   "metadata": {},
   "source": [
    "### String Captadas"
   ]
  },
  {
   "cell_type": "code",
   "execution_count": 5,
   "metadata": {},
   "outputs": [
    {
     "data": {
      "text/plain": [
       "['https://servicodados.ibge.gov.br/api/v2/censos/nomes/{nomes}',\n",
       " 'https://servicodados.ibge.gov.br/api/v2/censos/nomes/{nomes}?sexo={sexo}',\n",
       " 'https://servicodados.ibge.gov.br/api/v2/censos/nomes/{nomes}?groupBy=UF',\n",
       " 'https://servicodados.ibge.gov.br/api/v2/censos/nomes/{nomes}?localidade={municipioEstado}',\n",
       " 'https://servicodados.ibge.gov.br/api/v2/censos/nomes/ranking',\n",
       " 'https://servicodados.ibge.gov.br/api/v2/censos/nomes/ranking/?decada={decada}',\n",
       " 'https://servicodados.ibge.gov.br/api/v2/censos/nomes/ranking?localidade={municipioEstado}',\n",
       " 'https://servicodados.ibge.gov.br/api/v2/censos/nomes/ranking/?sexo={sexo}']"
      ]
     },
     "execution_count": 5,
     "metadata": {},
     "output_type": "execute_result"
    }
   ],
   "source": [
    "pr.lst_apis_ibge"
   ]
  },
  {
   "cell_type": "markdown",
   "metadata": {},
   "source": [
    "## Ranking dos nomes mais utilizados"
   ]
  },
  {
   "cell_type": "markdown",
   "metadata": {},
   "source": [
    "### Exibir algumas informações da função"
   ]
  },
  {
   "cell_type": "code",
   "execution_count": 6,
   "metadata": {},
   "outputs": [
    {
     "name": "stdout",
     "output_type": "stream",
     "text": [
      "\n",
      "            Function: função que retorna uma lista com o rank dos nomes mais frequentes\n",
      "    \n",
      "            Args:\n",
      "    \n",
      "            Return:\n",
      "                int: resposta http\n",
      "                list: lista com as informações\n",
      "        \n"
     ]
    }
   ],
   "source": [
    "print(pr.fn_IBGE_listar_ranking_dos_nomes_mais_frequentes.__doc__)"
   ]
  },
  {
   "cell_type": "markdown",
   "metadata": {},
   "source": [
    "### Criar uma lista com apenas os nomes, basicamente uma lista de dicionarios de nomes"
   ]
  },
  {
   "cell_type": "code",
   "execution_count": 7,
   "metadata": {},
   "outputs": [],
   "source": [
    "# Captar as informações da API\n",
    "int_response, lst_names_ranking = pr.fn_IBGE_listar_ranking_dos_nomes_mais_frequentes()"
   ]
  },
  {
   "cell_type": "code",
   "execution_count": 8,
   "metadata": {},
   "outputs": [],
   "source": [
    "# Usando uma list comprehesion, para captar apenas uma lista de nomes\n",
    "lst_names_ranking_aux = [ra['res'] for ra in lst_names_ranking]"
   ]
  },
  {
   "cell_type": "code",
   "execution_count": 9,
   "metadata": {},
   "outputs": [
    {
     "data": {
      "text/plain": [
       "[{'nome': 'MARIA', 'frequencia': 11734129, 'ranking': 1},\n",
       " {'nome': 'JOSE', 'frequencia': 5754529, 'ranking': 2},\n",
       " {'nome': 'ANA', 'frequencia': 3089858, 'ranking': 3}]"
      ]
     },
     "execution_count": 9,
     "metadata": {},
     "output_type": "execute_result"
    }
   ],
   "source": [
    "lst_names_ranking_aux[0][0:3]"
   ]
  },
  {
   "cell_type": "markdown",
   "metadata": {},
   "source": [
    "### Dataframe com o ranking dos nomes mais utilizados\n",
    "   "
   ]
  },
  {
   "cell_type": "code",
   "execution_count": 10,
   "metadata": {},
   "outputs": [],
   "source": [
    "df_names_ranking = pd.DataFrame(list(chain.from_iterable(lst_names_ranking_aux)))"
   ]
  },
  {
   "cell_type": "code",
   "execution_count": 11,
   "metadata": {},
   "outputs": [
    {
     "data": {
      "text/html": [
       "<div>\n",
       "<style scoped>\n",
       "    .dataframe tbody tr th:only-of-type {\n",
       "        vertical-align: middle;\n",
       "    }\n",
       "\n",
       "    .dataframe tbody tr th {\n",
       "        vertical-align: top;\n",
       "    }\n",
       "\n",
       "    .dataframe thead th {\n",
       "        text-align: right;\n",
       "    }\n",
       "</style>\n",
       "<table border=\"1\" class=\"dataframe\">\n",
       "  <thead>\n",
       "    <tr style=\"text-align: right;\">\n",
       "      <th></th>\n",
       "      <th>nome</th>\n",
       "      <th>frequencia</th>\n",
       "      <th>ranking</th>\n",
       "    </tr>\n",
       "  </thead>\n",
       "  <tbody>\n",
       "    <tr>\n",
       "      <th>0</th>\n",
       "      <td>MARIA</td>\n",
       "      <td>11734129</td>\n",
       "      <td>1</td>\n",
       "    </tr>\n",
       "    <tr>\n",
       "      <th>1</th>\n",
       "      <td>JOSE</td>\n",
       "      <td>5754529</td>\n",
       "      <td>2</td>\n",
       "    </tr>\n",
       "    <tr>\n",
       "      <th>2</th>\n",
       "      <td>ANA</td>\n",
       "      <td>3089858</td>\n",
       "      <td>3</td>\n",
       "    </tr>\n",
       "  </tbody>\n",
       "</table>\n",
       "</div>"
      ],
      "text/plain": [
       "    nome  frequencia  ranking\n",
       "0  MARIA    11734129        1\n",
       "1   JOSE     5754529        2\n",
       "2    ANA     3089858        3"
      ]
     },
     "execution_count": 11,
     "metadata": {},
     "output_type": "execute_result"
    }
   ],
   "source": [
    "df_names_ranking.head(3)"
   ]
  },
  {
   "cell_type": "markdown",
   "metadata": {},
   "source": [
    "### Plotagem de Barras com os nomes mais utilizados"
   ]
  },
  {
   "cell_type": "code",
   "execution_count": 23,
   "metadata": {},
   "outputs": [
    {
     "data": {
      "text/plain": [
       "Text(0, 0.5, 'Frequêcia (Nº em Dezenas de Milhões)')"
      ]
     },
     "execution_count": 23,
     "metadata": {},
     "output_type": "execute_result"
    },
    {
     "data": {
      "text/plain": [
       "<Figure size 1080x720 with 0 Axes>"
      ]
     },
     "metadata": {},
     "output_type": "display_data"
    },
    {
     "data": {
      "image/png": "[encoded data removed]",
      "text/plain": [
       "<Figure size 432x288 with 1 Axes>"
      ]
     },
     "metadata": {
      "needs_background": "light"
     },
     "output_type": "display_data"
    }
   ],
   "source": [
    "#Tamanho da Figura(1080x720)\n",
    "plt.figure(figsize=(15,10))\n",
    "# Definição dos eixos do grafico\n",
    "ax = df_names_ranking.plot.bar(x='nome', y='frequencia')\n",
    "# Rotação do eixo x em 70°\n",
    "plt.xticks(rotation = 70)\n",
    "# Renomear a label \n",
    "plt.xlabel(\"Nomes mais Frequentes\")\n",
    "\n",
    "plt.ylabel(\"Frequêcia (Nº em Dezenas de Milhões)\")"
   ]
  },
  {
   "cell_type": "markdown",
   "metadata": {},
   "source": [
    "#### WordCloud pela Frequencia de nomes"
   ]
  },
  {
   "cell_type": "code",
   "execution_count": 13,
   "metadata": {},
   "outputs": [],
   "source": [
    "### PENDENTE"
   ]
  },
  {
   "cell_type": "markdown",
   "metadata": {},
   "source": [
    "## Ranking dos nomes mais utilizados por década\n",
    "\n",
    "<p>Será feita uma analise dos nomes mais utilizados entres as décadas de 1930 e 2010</p>"
   ]
  },
  {
   "cell_type": "code",
   "execution_count": 13,
   "metadata": {},
   "outputs": [
    {
     "name": "stdout",
     "output_type": "stream",
     "text": [
      "\n",
      "            Function: função que retorna uma lista com os nomes mais frequentes usados em uma determinada decada\n",
      "    \n",
      "            Args:\n",
      "                int: decada a ser pesquisada\n",
      "            Return:\n",
      "                int: resposta http\n",
      "                list: lista com as informações da frequencia do nome\n",
      "        \n"
     ]
    }
   ],
   "source": [
    "print(pr.fn_IBGE_listar_ranking_dos_nomes_mais_frequentes_por_decada.__doc__)"
   ]
  },
  {
   "cell_type": "markdown",
   "metadata": {},
   "source": [
    "<p>Uma vez obtido a informação dos nomes mais utilizados em uma década, podemos utilizar uma estrutura para trazer todos de uma vez, sem precisar replicar o mesmo código n vezes</p>"
   ]
  },
  {
   "cell_type": "code",
   "execution_count": 14,
   "metadata": {},
   "outputs": [],
   "source": [
    "lst_decadas = [1930, 1940, 1950, 1960, 1970, 1980, 1990, 2000, 2010]\n",
    "lst_names_ranking_aux = []\n",
    "lst_names_ranking = []\n",
    "for dec in lst_decadas:\n",
    "    int_response, lst_names_ranking_aux = pr.fn_IBGE_listar_ranking_dos_nomes_mais_frequentes_por_decada(dec)\n",
    "    if int_response == 200: # OK\n",
    "        for es in lst_names_ranking_aux:\n",
    "            es.update( {\"decada\":dec}) \n",
    "        lst_names_ranking += lst_names_ranking_aux\n",
    "    # 1 Segundo de espera até a próxima requisição\n",
    "    time.sleep(1)"
   ]
  },
  {
   "cell_type": "markdown",
   "metadata": {},
   "source": [
    "<p>Foi gerada uma lista unidimensional onde cada 'linha' possui uma lista com as informações da API, e ao mesmo tempo, foi acrescido uma chave com a informação da década de referência <p>"
   ]
  },
  {
   "cell_type": "code",
   "execution_count": 18,
   "metadata": {},
   "outputs": [
    {
     "data": {
      "text/plain": [
       "[{'localidade': 'BR',\n",
       "  'sexo': None,\n",
       "  'res': [{'nome': 'MARIA', 'frequencia': 336477, 'ranking': 1},\n",
       "   {'nome': 'JOSE', 'frequencia': 118121, 'ranking': 2},\n",
       "   {'nome': 'ANTONIO', 'frequencia': 60651, 'ranking': 3},\n",
       "   {'nome': 'JOAO', 'frequencia': 60155, 'ranking': 4},\n",
       "   {'nome': 'ANA', 'frequencia': 33395, 'ranking': 5},\n",
       "   {'nome': 'FRANCISCO', 'frequencia': 33338, 'ranking': 6},\n",
       "   {'nome': 'MANOEL', 'frequencia': 28241, 'ranking': 7},\n",
       "   {'nome': 'FRANCISCA', 'frequencia': 27317, 'ranking': 8},\n",
       "   {'nome': 'ANTONIA', 'frequencia': 22746, 'ranking': 9},\n",
       "   {'nome': 'PEDRO', 'frequencia': 21483, 'ranking': 10},\n",
       "   {'nome': 'JOSEFA', 'frequencia': 19421, 'ranking': 11},\n",
       "   {'nome': 'RAIMUNDO', 'frequencia': 17300, 'ranking': 12},\n",
       "   {'nome': 'SEBASTIAO', 'frequencia': 17299, 'ranking': 13},\n",
       "   {'nome': 'RAIMUNDA', 'frequencia': 16455, 'ranking': 14},\n",
       "   {'nome': 'ROSA', 'frequencia': 15097, 'ranking': 15},\n",
       "   {'nome': 'JOANA', 'frequencia': 14520, 'ranking': 16},\n",
       "   {'nome': 'JOAQUIM', 'frequencia': 13809, 'ranking': 17},\n",
       "   {'nome': 'MANUEL', 'frequencia': 12185, 'ranking': 18},\n",
       "   {'nome': 'LUIZ', 'frequencia': 11073, 'ranking': 19},\n",
       "   {'nome': 'SEBASTIANA', 'frequencia': 10365, 'ranking': 20}],\n",
       "  'decada': 1930}]"
      ]
     },
     "execution_count": 18,
     "metadata": {},
     "output_type": "execute_result"
    }
   ],
   "source": [
    "lst_names_ranking[0:1]"
   ]
  },
  {
   "cell_type": "markdown",
   "metadata": {},
   "source": [
    "Pra facilitar a confecção do dataframe, será gerada uma nova lista, onde cada nome e sua respectiva, frequência virá acompanhado de sua dácada de referência"
   ]
  },
  {
   "cell_type": "code",
   "execution_count": 15,
   "metadata": {},
   "outputs": [],
   "source": [
    "lst_names_rankink_decade = []\n",
    "# Iterar a Lista decada por decada, que no caso, foram 9 decadas computadas\n",
    "for decada in lst_names_ranking:\n",
    "    # Iterar a lista nome por nome, que no caso foram 20 frequencias por decada\n",
    "    for i_nome in range(20):\n",
    "        dic_names_ranking_decade ={ \"nome\":str(decada['res'][i_nome]['nome']),\n",
    "                                    \"frequencia\": int(decada['res'][i_nome]['frequencia']),\n",
    "                                    \"ranking\": int(decada['res'][i_nome]['ranking']),\n",
    "                                    \"decada\": int(decada['decada'])}\n",
    "        lst_names_rankink_decade.append(dic_names_ranking_decade)\n",
    "        "
   ]
  },
  {
   "cell_type": "code",
   "execution_count": 16,
   "metadata": {},
   "outputs": [
    {
     "data": {
      "text/plain": [
       "[{'nome': 'MARIA', 'frequencia': 336477, 'ranking': 1, 'decada': 1930},\n",
       " {'nome': 'JOSE', 'frequencia': 118121, 'ranking': 2, 'decada': 1930}]"
      ]
     },
     "execution_count": 16,
     "metadata": {},
     "output_type": "execute_result"
    }
   ],
   "source": [
    "lst_names_rankink_decade[0:2]"
   ]
  },
  {
   "cell_type": "markdown",
   "metadata": {},
   "source": [
    "### Dataframe com o ranking dos nomes mais utilizados por decada\n"
   ]
  },
  {
   "cell_type": "code",
   "execution_count": 19,
   "metadata": {},
   "outputs": [],
   "source": [
    "df_names_ranking_dec = pd.DataFrame(lst_names_rankink_decade)"
   ]
  },
  {
   "cell_type": "code",
   "execution_count": 20,
   "metadata": {},
   "outputs": [
    {
     "data": {
      "text/html": [
       "<div>\n",
       "<style scoped>\n",
       "    .dataframe tbody tr th:only-of-type {\n",
       "        vertical-align: middle;\n",
       "    }\n",
       "\n",
       "    .dataframe tbody tr th {\n",
       "        vertical-align: top;\n",
       "    }\n",
       "\n",
       "    .dataframe thead th {\n",
       "        text-align: right;\n",
       "    }\n",
       "</style>\n",
       "<table border=\"1\" class=\"dataframe\">\n",
       "  <thead>\n",
       "    <tr style=\"text-align: right;\">\n",
       "      <th></th>\n",
       "      <th>nome</th>\n",
       "      <th>frequencia</th>\n",
       "      <th>ranking</th>\n",
       "      <th>decada</th>\n",
       "    </tr>\n",
       "  </thead>\n",
       "  <tbody>\n",
       "    <tr>\n",
       "      <th>0</th>\n",
       "      <td>MARIA</td>\n",
       "      <td>336477</td>\n",
       "      <td>1</td>\n",
       "      <td>1930</td>\n",
       "    </tr>\n",
       "    <tr>\n",
       "      <th>1</th>\n",
       "      <td>JOSE</td>\n",
       "      <td>118121</td>\n",
       "      <td>2</td>\n",
       "      <td>1930</td>\n",
       "    </tr>\n",
       "    <tr>\n",
       "      <th>2</th>\n",
       "      <td>ANTONIO</td>\n",
       "      <td>60651</td>\n",
       "      <td>3</td>\n",
       "      <td>1930</td>\n",
       "    </tr>\n",
       "    <tr>\n",
       "      <th>3</th>\n",
       "      <td>JOAO</td>\n",
       "      <td>60155</td>\n",
       "      <td>4</td>\n",
       "      <td>1930</td>\n",
       "    </tr>\n",
       "    <tr>\n",
       "      <th>4</th>\n",
       "      <td>ANA</td>\n",
       "      <td>33395</td>\n",
       "      <td>5</td>\n",
       "      <td>1930</td>\n",
       "    </tr>\n",
       "  </tbody>\n",
       "</table>\n",
       "</div>"
      ],
      "text/plain": [
       "      nome  frequencia  ranking  decada\n",
       "0    MARIA      336477        1    1930\n",
       "1     JOSE      118121        2    1930\n",
       "2  ANTONIO       60651        3    1930\n",
       "3     JOAO       60155        4    1930\n",
       "4      ANA       33395        5    1930"
      ]
     },
     "execution_count": 20,
     "metadata": {},
     "output_type": "execute_result"
    }
   ],
   "source": [
    "df_names_ranking_dec.head(5)"
   ]
  },
  {
   "cell_type": "markdown",
   "metadata": {},
   "source": [
    "### Plotagem de Barras com a frequencia do nome 'Maria' ao longo das décadas"
   ]
  },
  {
   "cell_type": "code",
   "execution_count": 21,
   "metadata": {},
   "outputs": [],
   "source": [
    "# Pendente"
   ]
  }
 ],
 "metadata": {
  "kernelspec": {
   "display_name": "Python 3",
   "language": "python",
   "name": "python3"
  },
  "language_info": {
   "codemirror_mode": {
    "name": "ipython",
    "version": 3
   },
   "file_extension": ".py",
   "mimetype": "text/x-python",
   "name": "python",
   "nbconvert_exporter": "python",
   "pygments_lexer": "ipython3",
   "version": "3.7.3"
  }
 },
 "nbformat": 4,
 "nbformat_minor": 2
}
