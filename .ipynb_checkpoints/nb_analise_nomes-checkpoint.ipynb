{
 "cells": [
  {
   "cell_type": "markdown",
   "metadata": {},
   "source": [
    "<h1>Nomes do Brasil</h1>"
   ]
  },
  {
   "cell_type": "markdown",
   "metadata": {},
   "source": [
    "<p>Esse notebook se destina a oferecer uma visão sobre os principais nomes utilizados no Brasil.</p>"
   ]
  },
  {
   "cell_type": "markdown",
   "metadata": {},
   "source": [
    "## Importações\n",
    "<p>Principais bibliotecas do Python utilizadas, e também arquivos do projeto.</p>"
   ]
  },
  {
   "cell_type": "code",
   "execution_count": 1,
   "metadata": {},
   "outputs": [],
   "source": [
    "import pandas as pd\n",
    "import numpy as np\n",
    "import matplotlib.pyplot as plt\n",
    "import time\n",
    "\n",
    "from wordcloud import WordCloud, STOPWORDS, ImageColorGenerator\n",
    "from src.principal import AcessoAPINomeIBGE\n",
    "from itertools import chain"
   ]
  },
  {
   "cell_type": "markdown",
   "metadata": {},
   "source": [
    "## Arquivos Externos\n",
    "<p>Localização dos arquivos que serão utilizados, basicamente os arquivos da pasta data, os .csv</p>"
   ]
  },
  {
   "cell_type": "code",
   "execution_count": 2,
   "metadata": {},
   "outputs": [],
   "source": [
    "states = 'data/estados.csv'\n",
    "cities = 'data/municipios.csv'\n",
    "apis_ibge = 'data/links_APIs.csv'"
   ]
  },
  {
   "cell_type": "markdown",
   "metadata": {},
   "source": [
    "## Inicializando alguns objetos"
   ]
  },
  {
   "cell_type": "markdown",
   "metadata": {},
   "source": [
    "### Carregando as string de conexão"
   ]
  },
  {
   "cell_type": "code",
   "execution_count": 3,
   "metadata": {},
   "outputs": [],
   "source": [
    "pr = AcessoAPINomeIBGE(apis_ibge)"
   ]
  },
  {
   "cell_type": "code",
   "execution_count": 4,
   "metadata": {},
   "outputs": [],
   "source": [
    "pr.fn_captar_strings_conexao_arquivo_csv()"
   ]
  },
  {
   "cell_type": "markdown",
   "metadata": {},
   "source": [
    "### String Captadas"
   ]
  },
  {
   "cell_type": "code",
   "execution_count": 5,
   "metadata": {},
   "outputs": [
    {
     "data": {
      "text/plain": [
       "['https://servicodados.ibge.gov.br/api/v2/censos/nomes/{nomes}',\n",
       " 'https://servicodados.ibge.gov.br/api/v2/censos/nomes/{nomes}?sexo={sexo}',\n",
       " 'https://servicodados.ibge.gov.br/api/v2/censos/nomes/{nomes}?groupBy=UF',\n",
       " 'https://servicodados.ibge.gov.br/api/v2/censos/nomes/{nomes}?localidade={municipioEstado}',\n",
       " 'https://servicodados.ibge.gov.br/api/v2/censos/nomes/ranking',\n",
       " 'https://servicodados.ibge.gov.br/api/v2/censos/nomes/ranking/?decada={decada}',\n",
       " 'https://servicodados.ibge.gov.br/api/v2/censos/nomes/ranking?localidade={municipioEstado}',\n",
       " 'https://servicodados.ibge.gov.br/api/v2/censos/nomes/ranking/?sexo={sexo}']"
      ]
     },
     "execution_count": 5,
     "metadata": {},
     "output_type": "execute_result"
    }
   ],
   "source": [
    "pr.lst_apis_ibge"
   ]
  },
  {
   "cell_type": "markdown",
   "metadata": {},
   "source": [
    "## Ranking dos nomes mais utilizados"
   ]
  },
  {
   "cell_type": "markdown",
   "metadata": {},
   "source": [
    "### Exibir algumas informações da função"
   ]
  },
  {
   "cell_type": "code",
   "execution_count": 6,
   "metadata": {},
   "outputs": [
    {
     "name": "stdout",
     "output_type": "stream",
     "text": [
      "\n",
      "            Function: função que retorna uma lista com o rank dos nomes mais frequentes\n",
      "    \n",
      "            Args:\n",
      "    \n",
      "            Return:\n",
      "                int: resposta http\n",
      "                list: lista com as informações\n",
      "        \n"
     ]
    }
   ],
   "source": [
    "print(pr.fn_IBGE_listar_ranking_dos_nomes_mais_frequentes.__doc__)"
   ]
  },
  {
   "cell_type": "markdown",
   "metadata": {},
   "source": [
    "### Criar uma lista com apenas os nomes, basicamente uma lista de dicionarios de nomes"
   ]
  },
  {
   "cell_type": "code",
   "execution_count": 7,
   "metadata": {},
   "outputs": [],
   "source": [
    "# Captar as informações da API\n",
    "int_response, lst_names_ranking = pr.fn_IBGE_listar_ranking_dos_nomes_mais_frequentes()"
   ]
  },
  {
   "cell_type": "code",
   "execution_count": 8,
   "metadata": {},
   "outputs": [],
   "source": [
    "# Usando uma list comprehesion, para captar apenas uma lista de nomes\n",
    "lst_names_ranking_aux = [ra['res'] for ra in lst_names_ranking]"
   ]
  },
  {
   "cell_type": "code",
   "execution_count": 9,
   "metadata": {},
   "outputs": [
    {
     "data": {
      "text/plain": [
       "[{'nome': 'MARIA', 'frequencia': 11734129, 'ranking': 1},\n",
       " {'nome': 'JOSE', 'frequencia': 5754529, 'ranking': 2},\n",
       " {'nome': 'ANA', 'frequencia': 3089858, 'ranking': 3}]"
      ]
     },
     "execution_count": 9,
     "metadata": {},
     "output_type": "execute_result"
    }
   ],
   "source": [
    "lst_names_ranking_aux[0][0:3]"
   ]
  },
  {
   "cell_type": "markdown",
   "metadata": {},
   "source": [
    "### Dataframe com o ranking dos nomes mais utilizados\n",
    "   "
   ]
  },
  {
   "cell_type": "code",
   "execution_count": 10,
   "metadata": {},
   "outputs": [],
   "source": [
    "df_names_ranking = pd.DataFrame(list(chain.from_iterable(lst_names_ranking_aux)))"
   ]
  },
  {
   "cell_type": "code",
   "execution_count": 11,
   "metadata": {},
   "outputs": [
    {
     "data": {
      "text/html": [
       "<div>\n",
       "<style scoped>\n",
       "    .dataframe tbody tr th:only-of-type {\n",
       "        vertical-align: middle;\n",
       "    }\n",
       "\n",
       "    .dataframe tbody tr th {\n",
       "        vertical-align: top;\n",
       "    }\n",
       "\n",
       "    .dataframe thead th {\n",
       "        text-align: right;\n",
       "    }\n",
       "</style>\n",
       "<table border=\"1\" class=\"dataframe\">\n",
       "  <thead>\n",
       "    <tr style=\"text-align: right;\">\n",
       "      <th></th>\n",
       "      <th>nome</th>\n",
       "      <th>frequencia</th>\n",
       "      <th>ranking</th>\n",
       "    </tr>\n",
       "  </thead>\n",
       "  <tbody>\n",
       "    <tr>\n",
       "      <th>0</th>\n",
       "      <td>MARIA</td>\n",
       "      <td>11734129</td>\n",
       "      <td>1</td>\n",
       "    </tr>\n",
       "    <tr>\n",
       "      <th>1</th>\n",
       "      <td>JOSE</td>\n",
       "      <td>5754529</td>\n",
       "      <td>2</td>\n",
       "    </tr>\n",
       "    <tr>\n",
       "      <th>2</th>\n",
       "      <td>ANA</td>\n",
       "      <td>3089858</td>\n",
       "      <td>3</td>\n",
       "    </tr>\n",
       "  </tbody>\n",
       "</table>\n",
       "</div>"
      ],
      "text/plain": [
       "    nome  frequencia  ranking\n",
       "0  MARIA    11734129        1\n",
       "1   JOSE     5754529        2\n",
       "2    ANA     3089858        3"
      ]
     },
     "execution_count": 11,
     "metadata": {},
     "output_type": "execute_result"
    }
   ],
   "source": [
    "df_names_ranking.head(3)"
   ]
  },
  {
   "cell_type": "markdown",
   "metadata": {},
   "source": [
    "### Plotagem de Barras com os nomes mais utilizados"
   ]
  },
  {
   "cell_type": "code",
   "execution_count": 12,
   "metadata": {},
   "outputs": [
    {
     "data": {
      "text/plain": [
       "Text(0, 0.5, 'Frequêcia (Nº)')"
      ]
     },
     "execution_count": 12,
     "metadata": {},
     "output_type": "execute_result"
    },
    {
     "data": {
      "text/plain": [
       "<Figure size 1080x720 with 0 Axes>"
      ]
     },
     "metadata": {},
     "output_type": "display_data"
    },
    {
     "data": {
      "image/png": "[encoded data removed]",
      "text/plain": [
       "<Figure size 432x288 with 1 Axes>"
      ]
     },
     "metadata": {
      "needs_background": "light"
     },
     "output_type": "display_data"
    }
   ],
   "source": [
    "#Tamanho da Figura(1080x720)\n",
    "plt.figure(figsize=(15,10))\n",
    "# Definição dos eixos do grafico\n",
    "ax = df_names_ranking.plot.bar(x='nome', y='frequencia')\n",
    "# Rotação do eixo x em 70°\n",
    "plt.xticks(rotation = 70)\n",
    "# Renomear a label \n",
    "plt.xlabel(\"Nomes mais Frequentes\")\n",
    "\n",
    "plt.ylabel(\"Frequêcia (Nº)\")"
   ]
  },
  {
   "cell_type": "markdown",
   "metadata": {},
   "source": [
    "#### WordCloud pela Frequencia de nomes"
   ]
  },
  {
   "cell_type": "code",
   "execution_count": 13,
   "metadata": {},
   "outputs": [],
   "source": [
    "### PENDENTE"
   ]
  },
  {
   "cell_type": "markdown",
   "metadata": {},
   "source": [
    "## Ranking dos nomes mais utilizados por década\n",
    "\n",
    "<p>Será feita uma analise dos nomes mais utilizados entres as décadas de 1930 e 2010</p>"
   ]
  },
  {
   "cell_type": "code",
   "execution_count": 14,
   "metadata": {},
   "outputs": [
    {
     "name": "stdout",
     "output_type": "stream",
     "text": [
      "\n",
      "            Function: função que retorna uma lista com os nomes mais frequentes usados em uma determinada decada\n",
      "    \n",
      "            Args:\n",
      "                int: decada a ser pesquisada\n",
      "            Return:\n",
      "                int: resposta http\n",
      "                list: lista com as informações da frequencia do nome\n",
      "        \n"
     ]
    }
   ],
   "source": [
    "print(pr.fn_IBGE_listar_ranking_dos_nomes_mais_frequentes_por_decada.__doc__)"
   ]
  },
  {
   "cell_type": "code",
   "execution_count": 15,
   "metadata": {},
   "outputs": [],
   "source": [
    "# Captar as informações da API\n",
    "int_response, lst_names_ranking = pr.fn_IBGE_listar_ranking_dos_nomes_mais_frequentes_por_decada(1930)"
   ]
  },
  {
   "cell_type": "markdown",
   "metadata": {},
   "source": [
    "### Criar uma lista com as informações solicitadas"
   ]
  },
  {
   "cell_type": "code",
   "execution_count": 16,
   "metadata": {},
   "outputs": [],
   "source": [
    "# Usando uma list comprehesion, para captar apenas uma lista de nomes\n",
    "lst_names_ranking_aux = [ra['res'] for ra in lst_names_ranking]"
   ]
  },
  {
   "cell_type": "code",
   "execution_count": 17,
   "metadata": {},
   "outputs": [
    {
     "data": {
      "text/plain": [
       "[{'nome': 'MARIA', 'frequencia': 336477, 'ranking': 1},\n",
       " {'nome': 'JOSE', 'frequencia': 118121, 'ranking': 2},\n",
       " {'nome': 'ANTONIO', 'frequencia': 60651, 'ranking': 3}]"
      ]
     },
     "execution_count": 17,
     "metadata": {},
     "output_type": "execute_result"
    }
   ],
   "source": [
    "lst_names_ranking_aux[0][0:3]"
   ]
  },
  {
   "cell_type": "markdown",
   "metadata": {},
   "source": [
    "### Dataframe com o ranking dos nomes mais utilizados"
   ]
  },
  {
   "cell_type": "code",
   "execution_count": 18,
   "metadata": {},
   "outputs": [],
   "source": [
    "df_names_ranking_decada_1930 = pd.DataFrame(list(chain.from_iterable(lst_names_ranking_aux)))"
   ]
  },
  {
   "cell_type": "code",
   "execution_count": 19,
   "metadata": {},
   "outputs": [
    {
     "data": {
      "text/html": [
       "<div>\n",
       "<style scoped>\n",
       "    .dataframe tbody tr th:only-of-type {\n",
       "        vertical-align: middle;\n",
       "    }\n",
       "\n",
       "    .dataframe tbody tr th {\n",
       "        vertical-align: top;\n",
       "    }\n",
       "\n",
       "    .dataframe thead th {\n",
       "        text-align: right;\n",
       "    }\n",
       "</style>\n",
       "<table border=\"1\" class=\"dataframe\">\n",
       "  <thead>\n",
       "    <tr style=\"text-align: right;\">\n",
       "      <th></th>\n",
       "      <th>nome</th>\n",
       "      <th>frequencia</th>\n",
       "      <th>ranking</th>\n",
       "    </tr>\n",
       "  </thead>\n",
       "  <tbody>\n",
       "    <tr>\n",
       "      <th>0</th>\n",
       "      <td>MARIA</td>\n",
       "      <td>336477</td>\n",
       "      <td>1</td>\n",
       "    </tr>\n",
       "    <tr>\n",
       "      <th>1</th>\n",
       "      <td>JOSE</td>\n",
       "      <td>118121</td>\n",
       "      <td>2</td>\n",
       "    </tr>\n",
       "    <tr>\n",
       "      <th>2</th>\n",
       "      <td>ANTONIO</td>\n",
       "      <td>60651</td>\n",
       "      <td>3</td>\n",
       "    </tr>\n",
       "    <tr>\n",
       "      <th>3</th>\n",
       "      <td>JOAO</td>\n",
       "      <td>60155</td>\n",
       "      <td>4</td>\n",
       "    </tr>\n",
       "  </tbody>\n",
       "</table>\n",
       "</div>"
      ],
      "text/plain": [
       "      nome  frequencia  ranking\n",
       "0    MARIA      336477        1\n",
       "1     JOSE      118121        2\n",
       "2  ANTONIO       60651        3\n",
       "3     JOAO       60155        4"
      ]
     },
     "execution_count": 19,
     "metadata": {},
     "output_type": "execute_result"
    }
   ],
   "source": [
    "df_names_ranking_decada_1930.head(4)"
   ]
  },
  {
   "cell_type": "markdown",
   "metadata": {},
   "source": [
    "<p>Uma vez obtido a informação dos nomes mais utilizados em uma década, podemos utilizar uma estrutura para trazer todos de uma vez, sem precisar replicar o mesmo código n vezes</p>"
   ]
  },
  {
   "cell_type": "code",
   "execution_count": 33,
   "metadata": {},
   "outputs": [],
   "source": [
    "lst_decadas = [1930, 1940, 1950, 1960, 1970, 1980, 1990, 2000, 2010]\n",
    "lst_names_ranking_aux = []\n",
    "lst_names_ranking = []\n",
    "for dec in lst_decadas:\n",
    "    int_response, lst_names_ranking_aux = pr.fn_IBGE_listar_ranking_dos_nomes_mais_frequentes_por_decada(dec)\n",
    "    if int_response == 200: # OK\n",
    "        for es in lst_names_ranking_aux:\n",
    "            es.update( {\"decada\":dec}) \n",
    "        lst_names_ranking += lst_names_ranking_aux\n",
    "    # 1 Segundo de espera até a próxima requisição\n",
    "    time.sleep(1)"
   ]
  },
  {
   "cell_type": "markdown",
   "metadata": {},
   "source": [
    "<p>Foi gerada uma lista unidimensional onde cada 'linha' possui uma lista com as informações da API, e ao mesmo tempo, foi acrescido uma chave com a informação da década de referência <p>"
   ]
  },
  {
   "cell_type": "code",
   "execution_count": 86,
   "metadata": {},
   "outputs": [
    {
     "name": "stdout",
     "output_type": "stream",
     "text": [
      "'nome' : 'MARIA', 'frequencia' : '336477', 'ranking' : '1', 'decada' : '1930' \n",
      "'nome' : 'JOSE', 'frequencia' : '118121', 'ranking' : '2', 'decada' : '1930' \n",
      "'nome' : 'ANTONIO', 'frequencia' : '60651', 'ranking' : '3', 'decada' : '1930' \n",
      "'nome' : 'JOAO', 'frequencia' : '60155', 'ranking' : '4', 'decada' : '1930' \n",
      "'nome' : 'ANA', 'frequencia' : '33395', 'ranking' : '5', 'decada' : '1930' \n",
      "'nome' : 'FRANCISCO', 'frequencia' : '33338', 'ranking' : '6', 'decada' : '1930' \n",
      "'nome' : 'MANOEL', 'frequencia' : '28241', 'ranking' : '7', 'decada' : '1930' \n",
      "'nome' : 'FRANCISCA', 'frequencia' : '27317', 'ranking' : '8', 'decada' : '1930' \n",
      "'nome' : 'ANTONIA', 'frequencia' : '22746', 'ranking' : '9', 'decada' : '1930' \n",
      "'nome' : 'PEDRO', 'frequencia' : '21483', 'ranking' : '10', 'decada' : '1930' \n",
      "'nome' : 'JOSEFA', 'frequencia' : '19421', 'ranking' : '11', 'decada' : '1930' \n",
      "'nome' : 'RAIMUNDO', 'frequencia' : '17300', 'ranking' : '12', 'decada' : '1930' \n",
      "'nome' : 'SEBASTIAO', 'frequencia' : '17299', 'ranking' : '13', 'decada' : '1930' \n",
      "'nome' : 'RAIMUNDA', 'frequencia' : '16455', 'ranking' : '14', 'decada' : '1930' \n",
      "'nome' : 'ROSA', 'frequencia' : '15097', 'ranking' : '15', 'decada' : '1930' \n",
      "'nome' : 'JOANA', 'frequencia' : '14520', 'ranking' : '16', 'decada' : '1930' \n",
      "'nome' : 'JOAQUIM', 'frequencia' : '13809', 'ranking' : '17', 'decada' : '1930' \n",
      "'nome' : 'MANUEL', 'frequencia' : '12185', 'ranking' : '18', 'decada' : '1930' \n",
      "'nome' : 'LUIZ', 'frequencia' : '11073', 'ranking' : '19', 'decada' : '1930' \n",
      "'nome' : 'SEBASTIANA', 'frequencia' : '10365', 'ranking' : '20', 'decada' : '1930' \n",
      "'nome' : 'MARIA', 'frequencia' : '749053', 'ranking' : '1', 'decada' : '1940' \n",
      "'nome' : 'JOSE', 'frequencia' : '311202', 'ranking' : '2', 'decada' : '1940' \n",
      "'nome' : 'ANTONIO', 'frequencia' : '153459', 'ranking' : '3', 'decada' : '1940' \n",
      "'nome' : 'JOAO', 'frequencia' : '141772', 'ranking' : '4', 'decada' : '1940' \n",
      "'nome' : 'FRANCISCO', 'frequencia' : '78300', 'ranking' : '5', 'decada' : '1940' \n",
      "'nome' : 'MANOEL', 'frequencia' : '60061', 'ranking' : '6', 'decada' : '1940' \n",
      "'nome' : 'ANA', 'frequencia' : '56160', 'ranking' : '7', 'decada' : '1940' \n",
      "'nome' : 'FRANCISCA', 'frequencia' : '50099', 'ranking' : '8', 'decada' : '1940' \n",
      "'nome' : 'PEDRO', 'frequencia' : '49143', 'ranking' : '9', 'decada' : '1940' \n",
      "'nome' : 'SEBASTIAO', 'frequencia' : '45035', 'ranking' : '10', 'decada' : '1940' \n",
      "'nome' : 'TEREZINHA', 'frequencia' : '44876', 'ranking' : '11', 'decada' : '1940' \n",
      "'nome' : 'ANTONIA', 'frequencia' : '42629', 'ranking' : '12', 'decada' : '1940' \n",
      "'nome' : 'RAIMUNDO', 'frequencia' : '41825', 'ranking' : '13', 'decada' : '1940' \n",
      "'nome' : 'JOSEFA', 'frequencia' : '37220', 'ranking' : '14', 'decada' : '1940' \n",
      "'nome' : 'RAIMUNDA', 'frequencia' : '31166', 'ranking' : '15', 'decada' : '1940' \n",
      "'nome' : 'LUIZ', 'frequencia' : '31114', 'ranking' : '16', 'decada' : '1940' \n",
      "'nome' : 'TEREZA', 'frequencia' : '30545', 'ranking' : '17', 'decada' : '1940' \n",
      "'nome' : 'GERALDO', 'frequencia' : '29624', 'ranking' : '18', 'decada' : '1940' \n",
      "'nome' : 'JOAQUIM', 'frequencia' : '27493', 'ranking' : '19', 'decada' : '1940' \n",
      "'nome' : 'MANUEL', 'frequencia' : '26309', 'ranking' : '20', 'decada' : '1940' \n",
      "'nome' : 'MARIA', 'frequencia' : '1487042', 'ranking' : '1', 'decada' : '1950' \n",
      "'nome' : 'JOSE', 'frequencia' : '648754', 'ranking' : '2', 'decada' : '1950' \n",
      "'nome' : 'ANTONIO', 'frequencia' : '314375', 'ranking' : '3', 'decada' : '1950' \n",
      "'nome' : 'JOAO', 'frequencia' : '256001', 'ranking' : '4', 'decada' : '1950' \n",
      "'nome' : 'FRANCISCO', 'frequencia' : '160721', 'ranking' : '5', 'decada' : '1950' \n",
      "'nome' : 'ANA', 'frequencia' : '101259', 'ranking' : '6', 'decada' : '1950' \n",
      "'nome' : 'MANOEL', 'frequencia' : '95014', 'ranking' : '7', 'decada' : '1950' \n",
      "'nome' : 'FRANCISCA', 'frequencia' : '91799', 'ranking' : '8', 'decada' : '1950' \n",
      "'nome' : 'PEDRO', 'frequencia' : '86926', 'ranking' : '9', 'decada' : '1950' \n",
      "'nome' : 'SEBASTIAO', 'frequencia' : '84668', 'ranking' : '10', 'decada' : '1950' \n",
      "'nome' : 'RAIMUNDO', 'frequencia' : '80134', 'ranking' : '11', 'decada' : '1950' \n",
      "'nome' : 'LUIZ', 'frequencia' : '74213', 'ranking' : '12', 'decada' : '1950' \n",
      "'nome' : 'ANTONIA', 'frequencia' : '72229', 'ranking' : '13', 'decada' : '1950' \n",
      "'nome' : 'TEREZINHA', 'frequencia' : '65194', 'ranking' : '14', 'decada' : '1950' \n",
      "'nome' : 'JOSEFA', 'frequencia' : '61101', 'ranking' : '15', 'decada' : '1950' \n",
      "'nome' : 'PAULO', 'frequencia' : '60073', 'ranking' : '16', 'decada' : '1950' \n",
      "'nome' : 'GERALDO', 'frequencia' : '56005', 'ranking' : '17', 'decada' : '1950' \n",
      "'nome' : 'CARLOS', 'frequencia' : '53410', 'ranking' : '18', 'decada' : '1950' \n",
      "'nome' : 'RAIMUNDA', 'frequencia' : '50089', 'ranking' : '19', 'decada' : '1950' \n",
      "'nome' : 'LUIS', 'frequencia' : '48056', 'ranking' : '20', 'decada' : '1950' \n",
      "'nome' : 'MARIA', 'frequencia' : '2476482', 'ranking' : '1', 'decada' : '1960' \n",
      "'nome' : 'JOSE', 'frequencia' : '1082782', 'ranking' : '2', 'decada' : '1960' \n",
      "'nome' : 'ANTONIO', 'frequencia' : '490645', 'ranking' : '3', 'decada' : '1960' \n",
      "'nome' : 'JOAO', 'frequencia' : '396438', 'ranking' : '4', 'decada' : '1960' \n",
      "'nome' : 'FRANCISCO', 'frequencia' : '263616', 'ranking' : '5', 'decada' : '1960' \n",
      "'nome' : 'ANA', 'frequencia' : '183941', 'ranking' : '6', 'decada' : '1960' \n",
      "'nome' : 'PAULO', 'frequencia' : '163158', 'ranking' : '7', 'decada' : '1960' \n",
      "'nome' : 'LUIZ', 'frequencia' : '162493', 'ranking' : '8', 'decada' : '1960' \n",
      "'nome' : 'CARLOS', 'frequencia' : '154038', 'ranking' : '9', 'decada' : '1960' \n",
      "'nome' : 'PEDRO', 'frequencia' : '126205', 'ranking' : '10', 'decada' : '1960' \n",
      "'nome' : 'RAIMUNDO', 'frequencia' : '116544', 'ranking' : '11', 'decada' : '1960' \n",
      "'nome' : 'MANOEL', 'frequencia' : '116085', 'ranking' : '12', 'decada' : '1960' \n",
      "'nome' : 'FRANCISCA', 'frequencia' : '114117', 'ranking' : '13', 'decada' : '1960' \n",
      "'nome' : 'LUIS', 'frequencia' : '113470', 'ranking' : '14', 'decada' : '1960' \n",
      "'nome' : 'SEBASTIAO', 'frequencia' : '112708', 'ranking' : '15', 'decada' : '1960' \n",
      "'nome' : 'VERA', 'frequencia' : '112453', 'ranking' : '16', 'decada' : '1960' \n",
      "'nome' : 'JORGE', 'frequencia' : '99457', 'ranking' : '17', 'decada' : '1960' \n",
      "'nome' : 'SONIA', 'frequencia' : '92602', 'ranking' : '18', 'decada' : '1960' \n",
      "'nome' : 'ANTONIA', 'frequencia' : '92052', 'ranking' : '19', 'decada' : '1960' \n",
      "'nome' : 'TEREZINHA', 'frequencia' : '84879', 'ranking' : '20', 'decada' : '1960' \n",
      "'nome' : 'MARIA', 'frequencia' : '2495491', 'ranking' : '1', 'decada' : '1970' \n",
      "'nome' : 'JOSE', 'frequencia' : '1242231', 'ranking' : '2', 'decada' : '1970' \n",
      "'nome' : 'ANTONIO', 'frequencia' : '531596', 'ranking' : '3', 'decada' : '1970' \n",
      "'nome' : 'JOAO', 'frequencia' : '429148', 'ranking' : '4', 'decada' : '1970' \n",
      "'nome' : 'FRANCISCO', 'frequencia' : '331643', 'ranking' : '5', 'decada' : '1970' \n",
      "'nome' : 'ANA', 'frequencia' : '292835', 'ranking' : '6', 'decada' : '1970' \n",
      "'nome' : 'CARLOS', 'frequencia' : '267228', 'ranking' : '7', 'decada' : '1970' \n",
      "'nome' : 'PAULO', 'frequencia' : '264587', 'ranking' : '8', 'decada' : '1970' \n",
      "'nome' : 'LUIZ', 'frequencia' : '198312', 'ranking' : '9', 'decada' : '1970' \n",
      "'nome' : 'LUIS', 'frequencia' : '162943', 'ranking' : '10', 'decada' : '1970' \n",
      "'nome' : 'MARCOS', 'frequencia' : '137775', 'ranking' : '11', 'decada' : '1970' \n",
      "'nome' : 'RAIMUNDO', 'frequencia' : '135106', 'ranking' : '12', 'decada' : '1970' \n",
      "'nome' : 'MARCIA', 'frequencia' : '134918', 'ranking' : '13', 'decada' : '1970' \n",
      "'nome' : 'PEDRO', 'frequencia' : '132795', 'ranking' : '14', 'decada' : '1970' \n",
      "'nome' : 'FRANCISCA', 'frequencia' : '130467', 'ranking' : '15', 'decada' : '1970' \n",
      "'nome' : 'SANDRA', 'frequencia' : '128709', 'ranking' : '16', 'decada' : '1970' \n",
      "'nome' : 'VERA', 'frequencia' : '126329', 'ranking' : '17', 'decada' : '1970' \n",
      "'nome' : 'SONIA', 'frequencia' : '125236', 'ranking' : '18', 'decada' : '1970' \n",
      "'nome' : 'JORGE', 'frequencia' : '113041', 'ranking' : '19', 'decada' : '1970' \n",
      "'nome' : 'MANOEL', 'frequencia' : '112892', 'ranking' : '20', 'decada' : '1970' \n",
      "'nome' : 'MARIA', 'frequencia' : '1616019', 'ranking' : '1', 'decada' : '1980' \n",
      "'nome' : 'JOSE', 'frequencia' : '942212', 'ranking' : '2', 'decada' : '1980' \n",
      "'nome' : 'ANA', 'frequencia' : '421531', 'ranking' : '3', 'decada' : '1980' \n",
      "'nome' : 'ANTONIO', 'frequencia' : '421292', 'ranking' : '4', 'decada' : '1980' \n",
      "'nome' : 'FRANCISCO', 'frequencia' : '298780', 'ranking' : '5', 'decada' : '1980' \n",
      "'nome' : 'JOAO', 'frequencia' : '279975', 'ranking' : '6', 'decada' : '1980' \n",
      "'nome' : 'PAULO', 'frequencia' : '274744', 'ranking' : '7', 'decada' : '1980' \n",
      "'nome' : 'CARLOS', 'frequencia' : '258333', 'ranking' : '8', 'decada' : '1980' \n",
      "'nome' : 'MARCOS', 'frequencia' : '256225', 'ranking' : '9', 'decada' : '1980' \n",
      "'nome' : 'ADRIANA', 'frequencia' : '247099', 'ranking' : '10', 'decada' : '1980' \n",
      "'nome' : 'MARCELO', 'frequencia' : '224990', 'ranking' : '11', 'decada' : '1980' \n",
      "'nome' : 'MARCIA', 'frequencia' : '204595', 'ranking' : '12', 'decada' : '1980' \n",
      "'nome' : 'MARCIO', 'frequencia' : '180626', 'ranking' : '13', 'decada' : '1980' \n",
      "'nome' : 'SANDRA', 'frequencia' : '177796', 'ranking' : '14', 'decada' : '1980' \n",
      "'nome' : 'LUCIANA', 'frequencia' : '174777', 'ranking' : '15', 'decada' : '1980' \n",
      "'nome' : 'CLAUDIA', 'frequencia' : '154258', 'ranking' : '16', 'decada' : '1980' \n",
      "'nome' : 'PATRICIA', 'frequencia' : '152381', 'ranking' : '17', 'decada' : '1980' \n",
      "'nome' : 'LUIZ', 'frequencia' : '146253', 'ranking' : '18', 'decada' : '1980' \n",
      "'nome' : 'ALEXANDRE', 'frequencia' : '145708', 'ranking' : '19', 'decada' : '1980' \n",
      "'nome' : 'SIMONE', 'frequencia' : '142900', 'ranking' : '20', 'decada' : '1980' \n",
      "'nome' : 'MARIA', 'frequencia' : '917968', 'ranking' : '1', 'decada' : '1990' \n",
      "'nome' : 'JOSE', 'frequencia' : '661123', 'ranking' : '2', 'decada' : '1990' \n",
      "'nome' : 'ANA', 'frequencia' : '529266', 'ranking' : '3', 'decada' : '1990' \n",
      "'nome' : 'ANTONIO', 'frequencia' : '299788', 'ranking' : '4', 'decada' : '1990' \n",
      "'nome' : 'FRANCISCO', 'frequencia' : '285827', 'ranking' : '5', 'decada' : '1990' \n",
      "'nome' : 'JOAO', 'frequencia' : '273960', 'ranking' : '6', 'decada' : '1990' \n",
      "'nome' : 'CARLOS', 'frequencia' : '270843', 'ranking' : '7', 'decada' : '1990' \n",
      "'nome' : 'RAFAEL', 'frequencia' : '262250', 'ranking' : '8', 'decada' : '1990' \n",
      "'nome' : 'PAULO', 'frequencia' : '259594', 'ranking' : '9', 'decada' : '1990' \n",
      "'nome' : 'RODRIGO', 'frequencia' : '250186', 'ranking' : '10', 'decada' : '1990' \n",
      "'nome' : 'MARCOS', 'frequencia' : '241551', 'ranking' : '11', 'decada' : '1990' \n",
      "'nome' : 'FABIO', 'frequencia' : '236374', 'ranking' : '12', 'decada' : '1990' \n",
      "'nome' : 'JULIANA', 'frequencia' : '229182', 'ranking' : '13', 'decada' : '1990' \n",
      "'nome' : 'LEANDRO', 'frequencia' : '224389', 'ranking' : '14', 'decada' : '1990' \n",
      "'nome' : 'MARCELO', 'frequencia' : '207902', 'ranking' : '15', 'decada' : '1990' \n",
      "'nome' : 'PATRICIA', 'frequencia' : '207672', 'ranking' : '16', 'decada' : '1990' \n",
      "'nome' : 'TIAGO', 'frequencia' : '202332', 'ranking' : '17', 'decada' : '1990' \n",
      "'nome' : 'ADRIANA', 'frequencia' : '195003', 'ranking' : '18', 'decada' : '1990' \n",
      "'nome' : 'ALINE', 'frequencia' : '192912', 'ranking' : '19', 'decada' : '1990' \n",
      "'nome' : 'ANDRE', 'frequencia' : '191597', 'ranking' : '20', 'decada' : '1990' \n",
      "'nome' : 'MARIA', 'frequencia' : '544296', 'ranking' : '1', 'decada' : '2000' \n",
      "'nome' : 'ANA', 'frequencia' : '536302', 'ranking' : '2', 'decada' : '2000' \n",
      "'nome' : 'LUCAS', 'frequencia' : '517436', 'ranking' : '3', 'decada' : '2000' \n",
      "'nome' : 'JOSE', 'frequencia' : '431536', 'ranking' : '4', 'decada' : '2000' \n",
      "'nome' : 'JOAO', 'frequencia' : '352552', 'ranking' : '5', 'decada' : '2000' \n",
      "'nome' : 'JESSICA', 'frequencia' : '346278', 'ranking' : '6', 'decada' : '2000' \n",
      "'nome' : 'RAFAEL', 'frequencia' : '314959', 'ranking' : '7', 'decada' : '2000' \n",
      "'nome' : 'BRUNO', 'frequencia' : '291524', 'ranking' : '8', 'decada' : '2000' \n",
      "'nome' : 'GABRIEL', 'frequencia' : '271405', 'ranking' : '9', 'decada' : '2000' \n",
      "'nome' : 'FELIPE', 'frequencia' : '263480', 'ranking' : '10', 'decada' : '2000' \n",
      "'nome' : 'BRUNA', 'frequencia' : '243948', 'ranking' : '11', 'decada' : '2000' \n",
      "'nome' : 'MARCOS', 'frequencia' : '219198', 'ranking' : '12', 'decada' : '2000' \n",
      "'nome' : 'MATEUS', 'frequencia' : '218839', 'ranking' : '13', 'decada' : '2000' \n",
      "'nome' : 'ALINE', 'frequencia' : '211777', 'ranking' : '14', 'decada' : '2000' \n",
      "'nome' : 'PAULO', 'frequencia' : '211265', 'ranking' : '15', 'decada' : '2000' \n",
      "'nome' : 'LEONARDO', 'frequencia' : '210481', 'ranking' : '16', 'decada' : '2000' \n",
      "'nome' : 'AMANDA', 'frequencia' : '209251', 'ranking' : '17', 'decada' : '2000' \n",
      "'nome' : 'CAMILA', 'frequencia' : '205816', 'ranking' : '18', 'decada' : '2000' \n",
      "'nome' : 'CARLOS', 'frequencia' : '198370', 'ranking' : '19', 'decada' : '2000' \n",
      "'nome' : 'FRANCISCO', 'frequencia' : '195901', 'ranking' : '20', 'decada' : '2000' \n",
      "'nome' : 'MARIA', 'frequencia' : '1111301', 'ranking' : '1', 'decada' : '2010' \n",
      "'nome' : 'ANA', 'frequencia' : '935169', 'ranking' : '2', 'decada' : '2010' \n",
      "'nome' : 'JOAO', 'frequencia' : '794118', 'ranking' : '3', 'decada' : '2010' \n",
      "'nome' : 'GABRIEL', 'frequencia' : '584024', 'ranking' : '4', 'decada' : '2010' \n",
      "'nome' : 'LUCAS', 'frequencia' : '505306', 'ranking' : '5', 'decada' : '2010' \n",
      "'nome' : 'PEDRO', 'frequencia' : '443275', 'ranking' : '6', 'decada' : '2010' \n",
      "'nome' : 'MATEUS', 'frequencia' : '330315', 'ranking' : '7', 'decada' : '2010' \n",
      "'nome' : 'JOSE', 'frequencia' : '316568', 'ranking' : '8', 'decada' : '2010' \n",
      "'nome' : 'GUSTAVO', 'frequencia' : '305050', 'ranking' : '9', 'decada' : '2010' \n",
      "'nome' : 'VITORIA', 'frequencia' : '284471', 'ranking' : '10', 'decada' : '2010' \n",
      "'nome' : 'GUILHERME', 'frequencia' : '279111', 'ranking' : '11', 'decada' : '2010' \n",
      "'nome' : 'CARLOS', 'frequencia' : '266690', 'ranking' : '12', 'decada' : '2010' \n",
      "'nome' : 'JULIA', 'frequencia' : '265758', 'ranking' : '13', 'decada' : '2010' \n",
      "'nome' : 'VITOR', 'frequencia' : '244503', 'ranking' : '14', 'decada' : '2010' \n",
      "'nome' : 'FELIPE', 'frequencia' : '227960', 'ranking' : '15', 'decada' : '2010' \n",
      "'nome' : 'LETICIA', 'frequencia' : '209359', 'ranking' : '16', 'decada' : '2010' \n",
      "'nome' : 'MARCOS', 'frequencia' : '201182', 'ranking' : '17', 'decada' : '2010' \n",
      "'nome' : 'RAFAEL', 'frequencia' : '195970', 'ranking' : '18', 'decada' : '2010' \n",
      "'nome' : 'LUIZ', 'frequencia' : '194790', 'ranking' : '19', 'decada' : '2010' \n",
      "'nome' : 'DANIEL', 'frequencia' : '194553', 'ranking' : '20', 'decada' : '2010' \n"
     ]
    }
   ],
   "source": [
    "str_dec_names = \"\"\n",
    "lst_names_rankink_decade = []\n",
    "\n",
    "# Iterar a Lista decada por decada, que no caso, foram 9 decadas computadas\n",
    "for decada in lst_names_ranking:\n",
    "    # Iterar a lista nome por nome, que no caso foram 20 frequencias por decada\n",
    "    for i_nome in range(20):\n",
    "        print(\"'nome' : '{}', 'frequencia' : '{}', 'ranking' : '{}', 'decada' : '{}' \".format(\n",
    "            decada['res'][i_nome]['nome'], decada['res'][i_nome]['frequencia'], decada['res'][i_nome]['ranking'],\n",
    "        decada['decada']))"
   ]
  },
  {
   "cell_type": "code",
   "execution_count": null,
   "metadata": {},
   "outputs": [],
   "source": []
  }
 ],
 "metadata": {
  "kernelspec": {
   "display_name": "Python 3",
   "language": "python",
   "name": "python3"
  },
  "language_info": {
   "codemirror_mode": {
    "name": "ipython",
    "version": 3
   },
   "file_extension": ".py",
   "mimetype": "text/x-python",
   "name": "python",
   "nbconvert_exporter": "python",
   "pygments_lexer": "ipython3",
   "version": "3.7.3"
  }
 },
 "nbformat": 4,
 "nbformat_minor": 2
}
